{
 "cells": [
  {
   "cell_type": "markdown",
   "metadata": {},
   "source": [
    "# Exercise 4: Ball-and stick neuron: Rall versus Eccles.\n",
    "\n",
    "In this exercise you will use `NEURON` together with its `Python` interface. (If you are not familiar with `NEURON` and `Python` it might help to have a look at this site, which contains quite similar code to what we will be using: http://paedia.info/quickstart/pyneuron.html}).\n",
    "\n",
    "You will be given example code (below) containing a ball-and-stick neuron, and a (virtual) patch clamp electrode that is used to inject a pulse current into the soma of the cell.\n",
    "\n",
    "__(i)__ We have (what we will pretend to be) experimental data from current injection into the soma of a neuron. The current injection starts at $t$=10 ms, and is held constant throughout the recording (200 ms). In Figure 1 you can see the _charging curve_, i.e., how the voltage responds to the injected current, and moves from its initial resting state of -65 mV, towards its new resting state at a more depolarized potential. This type of recording has been used to estimate the membrane time constant of neurons, and a dispute in neuroscience in the 1950s, was whether the dendrites  of the neuron had a substantial impact on this charging curve. The group of John Eccles  `(http://en.wikipedia.org/wiki/John\\_Eccles\\_(neurophysiologist))` used a lone soma model to fit the charging curve, while Wilfred Rall (`http://en.wikipedia.org/wiki/Wilfrid\\_Rall}` and Figure 2) argued for using a ball-and-stick model. In this exercise you will try to solve the dispute by comparing the normalized charging curves from our\n",
    "virtual 'experimental data' both to predictions from a lone soma model and from a ball-and-stick model. For more background information see Box 2.7 in Sterratt.\n",
    "\n",
    "Use and modify the code in below to explore by visual inspection of the results whether the lone-soma model or the ball-and-stick model fit the (virtual) experimental data best. \n",
    "\n",
    "<img src=\"exercise_4_exp.png\" width = \"400\">\n",
    "__Figure 1:__ The charging curve of the soma in our (virtual) experimental neuron, following the injection of a constant current starting at $t$ = 10 ms.\n",
    "\n",
    "<img src=\"RnG.png\" width = \"400\">\n",
    "__Figure 2:__ Gaute and his hero Wilfred Rall at the SfN meeting in Washington DC in 2014.\n",
    "\n",
    "\n",
    "__(ii)__ Dendrites filter the incoming currents from other neuron, that is, _synaptic currents_.Here we will look at how synaptic currents, modeled here as a square current pulse with a duration of 5 milliseconds, are filtered by the ball-and-stick neuron. \n",
    "\n",
    "Modify the stimulation duration in the code below and explore how the voltage response in the soma to this stimulus depends on the position of the current stimulation along the ball-and-stick dendrite. What happens to the somatic response as the input is moved farther away?\n",
    "\n",
    "__(iii) [Optional]__ If you would like to get more familiar with the Hodgkin-Huxley model, you can insert these conductances by simply writing `insert('hh')` instead of the already present `insert('pas')}` (The `'hh'` contains its own passive mechanism). You should now be able to make the model spike."
   ]
  },
  {
   "cell_type": "code",
   "execution_count": null,
   "metadata": {
    "collapsed": false
   },
   "outputs": [],
   "source": [
    "%pylab notebook"
   ]
  },
  {
   "cell_type": "code",
   "execution_count": null,
   "metadata": {
    "collapsed": true
   },
   "outputs": [],
   "source": [
    "import numpy as np\n",
    "import neuron\n",
    "nrn = neuron.h"
   ]
  },
  {
   "cell_type": "code",
   "execution_count": null,
   "metadata": {
    "collapsed": true
   },
   "outputs": [],
   "source": [
    "def return_ball_and_stick_soma():\n",
    "    \"\"\"\n",
    "    Makes a ball-and-stick neuron model.\n",
    "    :return: soma and dendrite NEURON objects. Both must be returned, or they are lost.\n",
    "    \"\"\"\n",
    "\n",
    "    soma = nrn.Section('soma')\n",
    "    soma.L = 15  # um; stored as a float number\n",
    "    soma.diam = 15  # um\n",
    "    soma.nseg = 1  # stored as an integer\n",
    "\n",
    "    dend = nrn.Section('dend')\n",
    "    dend.L = 1000\n",
    "    dend.diam = 2\n",
    "    dend.nseg = int(dend.L/10)\n",
    "\n",
    "    dend.connect(soma, 1, 0)\n",
    "\n",
    "    for sec in nrn.allsec():\n",
    "        sec.insert('pas')\n",
    "        sec.Ra = 100\n",
    "        sec.cm = 1\n",
    "        for seg in sec:\n",
    "            seg.g_pas = 0.00003\n",
    "            seg.e_pas = -65\n",
    "    return soma, dend"
   ]
  },
  {
   "cell_type": "code",
   "execution_count": null,
   "metadata": {
    "collapsed": true
   },
   "outputs": [],
   "source": [
    "def insert_current_clamp(input_site):\n",
    "    \"\"\"\n",
    "    Inserts a current clamp in the neuron model\n",
    "    :param input_site: Where to place the current clamp. Example: soma(0.5), where 0.5 means 'center',\n",
    "           0 would mean start, and 1 would mean at the end of the segment in question.\n",
    "    :return: The NEURON object current clamp. This must be returned, otherwise it is lost.\n",
    "    \"\"\"\n",
    "    stim = nrn.IClamp(input_site)\n",
    "    stim.delay = 10\n",
    "    stim.amp = 0.0113\n",
    "    stim.dur = 1e9\n",
    "    return stim"
   ]
  },
  {
   "cell_type": "code",
   "execution_count": null,
   "metadata": {
    "collapsed": true
   },
   "outputs": [],
   "source": [
    "def run_simulation(record_site):\n",
    "    \"\"\"\n",
    "    Runs the NEURON simulation\n",
    "    :param record_site: Where to record membrane potential from. Example: soma(0.5), where 0.5 means 'center',\n",
    "           0 would mean start, and 1 would mean at the end of the segment in question.\n",
    "    :return: Time and voltage numpy arrays\n",
    "    \"\"\"\n",
    "    rec_t = nrn.Vector()\n",
    "    rec_t.record(nrn._ref_t)\n",
    "    rec_v = nrn.Vector()\n",
    "    rec_v.record(record_site._ref_v)\n",
    "    neuron.h.dt = 2**-3\n",
    "    nrn.finitialize(-65)\n",
    "    neuron.init()\n",
    "    neuron.run(200)\n",
    "    return np.array(rec_t), np.array(rec_v)"
   ]
  },
  {
   "cell_type": "code",
   "execution_count": null,
   "metadata": {
    "collapsed": true
   },
   "outputs": [],
   "source": [
    "def exercise_4_1():\n",
    "\n",
    "    exp_t = np.load('exp_t.npy')\n",
    "    exp_somav = np.load('exp_v.npy')\n",
    "\n",
    "    soma_rall, dend_rall = return_ball_and_stick_soma()\n",
    "    stim = insert_current_clamp(soma_rall(0.5))\n",
    "    t, v_rall = run_simulation(soma_rall(0.5))\n",
    "\n",
    "    fig = figure()\n",
    "    ax1 = fig.add_subplot(111, xlabel=\"Time [ms]\", ylabel=\"Voltage [mV]\")\n",
    "    ax1.plot(t, exp_somav, 'gray', label='\"Experiment\"')\n",
    "    ax1.plot(t, v_rall, 'g', label='Rall')\n",
    "    legend(loc=4, frameon=False)\n",
    "\n",
    "    savefig('exercise_4_1_.png')"
   ]
  },
  {
   "cell_type": "code",
   "execution_count": null,
   "metadata": {
    "collapsed": false
   },
   "outputs": [],
   "source": [
    "exercise_4_1()"
   ]
  },
  {
   "cell_type": "code",
   "execution_count": null,
   "metadata": {
    "collapsed": true
   },
   "outputs": [],
   "source": []
  }
 ],
 "metadata": {
  "kernelspec": {
   "display_name": "Python 3",
   "language": "python",
   "name": "python3"
  },
  "language_info": {
   "codemirror_mode": {
    "name": "ipython",
    "version": 3
   },
   "file_extension": ".py",
   "mimetype": "text/x-python",
   "name": "python",
   "nbconvert_exporter": "python",
   "pygments_lexer": "ipython3",
   "version": "3.6.0"
  }
 },
 "nbformat": 4,
 "nbformat_minor": 2
}
