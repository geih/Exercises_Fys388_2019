{
 "cells": [
  {
   "cell_type": "code",
   "execution_count": null,
   "metadata": {},
   "outputs": [],
   "source": [
    "%pylab inline"
   ]
  },
  {
   "cell_type": "markdown",
   "metadata": {},
   "source": [
    "## Exercise 5: Simple Hay et al. model neuron simulation with one synaptic input\n",
    "\n",
    "In this exercise you will work with a 'state-of-the-art' multi-compartmental model form literature, namely the Hay model (Hay et al. (2011) PLoS Comput Biol 7: e1002107, doi:10.1371/journal.pcbi.1002107). This model has an anatomically reconstructed dendritic morphology (Figure 1), and many active conductances that have been added and fitted to experimental data. Many such cell models are now freely available from online data bases like ModelDB (https://senselab.med.yale.edu/modeldb/), and if you want to make your own model, dendritic morphologies can be downloaded from NeuroMorpho.org (https://neuromorpho.org). Scientific papers based solely on simulations with such cell models taken from literature and data bases are common. \n",
    "\n",
    "In this exercise you will work with this simple jupyter-notebook utilizing LFPy and Neuron, that you can adapt to solve this exercise."
   ]
  },
  {
   "cell_type": "markdown",
   "metadata": {},
   "source": [
    "<img src=\"Hay-neuron.png\" width = \"160\">\n",
    "\n",
    "Figure 1: Reconstructed morphology of a rat neocortical pyramidal cell by Hay et al. (2011). Experimental recording sites are indicated by schematic electrodes at the soma (black), proximal apical dendrite (400 $\\mu$m from the soma, blue) and distal apical site (620 $\\mu$m from the soma, red). Taken from Figure 1 in Hay et al. (2011),\n",
    "http://journals.plos.org/ploscompbiol/article?id=10.1371/journal.pcbi.1002107"
   ]
  },
  {
   "cell_type": "markdown",
   "metadata": {},
   "source": [
    "__(i)__ Make the cell spike by giving it one or more synaptic inputs. Experiment with different synapse numbers, locations and synaptic strengths. Have fun! \n",
    "\n",
    "__(ii)__ Plot the 'raw' and normalized subthreshold somatic voltage response from synaptic inputs for increasing distances between the synaptic input and the soma. Can you describe what you see?\n",
    "\n",
    "__(iii)__ Plot the somatic membrane potential response to a spike train input to a synapse in the distal apical dendrite when the neuron is passive, that is, has no active conductances. The incoming spike train should contain three spikes, with an even interspike interval of 40 ms. How do the synaptic input sum at the input site? How do they sum in the soma compartment? How does it change if the cell has all the original active conductances? (Note that the documentation in the code explains how to turn active conductances on and off.)\n",
    "\n",
    "__(iv)__ [Optional] In the release of the LFPy program (Linden et al. (2014). Frontiers in Neuroinformatics 7:41 (2014), doi: 10.3389/fninf.2013.00041), several example jupyter notebooks were included. They are available through the LFPy GitHub pages at https://github.com/LFPy/LFPy.git. Test out some of them (but note that the example notebooks also produce plots of extracellular potentials which we will go through later in the course).\n",
    "The simplest way to get all example files is cloning LFPy using git:\n",
    "\n",
    "    git clone https://github.com/LFPy/LFPy.git  # clone sources\n",
    "    cd LFPy/examples  # enter examples directory\n",
    "    jupyter-notebook  # start jupyter-notebook in the browser"
   ]
  },
  {
   "cell_type": "code",
   "execution_count": null,
   "metadata": {},
   "outputs": [],
   "source": [
    "import os\n",
    "from os.path import join\n",
    "import numpy as np\n",
    "import neuron\n",
    "import LFPy\n",
    "from hay_model.hay_active_declarations import active_declarations\n",
    "nrn = neuron.h"
   ]
  },
  {
   "cell_type": "code",
   "execution_count": null,
   "metadata": {},
   "outputs": [],
   "source": [
    "# the following will attempt to convert NEURON NMODL (.mod) files into C-language files and \n",
    "# compile them. This step requires the correct C-compiler, which may depend on your system and \n",
    "# python (conda) environment and the manner in which NEURON and LFPy was installed. \n",
    "# \n",
    "# If you encounter errors, contact the tutor(s) for some technical assistance. \n",
    "retval = os.getcwd()\n",
    "print(\"Current working directory %s\" % retval)\n",
    "os.chdir(os.path.join(\"hay_model\", \"mod\"))\n",
    "!nrnivmodl\n",
    "os.chdir(retval)"
   ]
  },
  {
   "cell_type": "code",
   "execution_count": null,
   "metadata": {},
   "outputs": [],
   "source": [
    "def return_cell(synaptic_y_pos=900, \n",
    "                conductance_type='active', \n",
    "                weight=0.001, \n",
    "                input_spike_train=np.array([10.])):\n",
    "    \"\"\"\n",
    "    Runs a NEURON simulation and returns an LFPy cell object for a single synaptic input.\n",
    "    \n",
    "    :param synaptic_y_pos: position along the apical dendrite where the synapse is inserted.\n",
    "    :param conductance_type: Either 'active' or 'passive'. If 'active' all original ion-channels are included,\n",
    "           if 'passive' they are all removed, yielding a passive cell model.\n",
    "    :param weight: Strength of synaptic input.\n",
    "    :param input_spike_train: Numpy array containing synaptic spike times\n",
    "    :return: cell object where cell.imem gives transmembrane currents, cell.vmem gives membrane potentials.\n",
    "             See LFPy documentation for more details and examples.\n",
    "    \"\"\"\n",
    "    nrn('forall delete_section()')\n",
    "    model_path = join('hay_model')\n",
    "    neuron.load_mechanisms(join(model_path, 'mod'))\n",
    "    cell_parameters = {\n",
    "        'morphology': join(model_path, 'cell1.hoc'),\n",
    "        'v_init': -65,\n",
    "        'passive': False,\n",
    "        'nsegs_method': 'lambda_f',\n",
    "        'lambda_f': 100,\n",
    "        'dt': 2**-3,  # Should be a power of 2\n",
    "        'tstart': -200,\n",
    "        'tstop': 200,\n",
    "        'custom_code': [join(model_path, 'custom_codes.hoc')],\n",
    "        'custom_fun': [active_declarations],\n",
    "        'custom_fun_args': [{'conductance_type': conductance_type}],\n",
    "    }\n",
    "    cell = LFPy.Cell(**cell_parameters)\n",
    "    synapse_parameters = {\n",
    "        'idx': cell.get_closest_idx(x=0., y=synaptic_y_pos, z=0.),\n",
    "        'e': 0.,\n",
    "        'syntype': 'ExpSyn',\n",
    "        'tau': 10.,\n",
    "        'weight': weight,\n",
    "        'record_current': True,\n",
    "    }\n",
    "    synapse = LFPy.Synapse(cell, **synapse_parameters)\n",
    "    synapse.set_spike_times(input_spike_train)\n",
    "    cell.simulate(rec_imem=True, rec_vmem=True)\n",
    "    return cell"
   ]
  },
  {
   "cell_type": "code",
   "execution_count": null,
   "metadata": {},
   "outputs": [],
   "source": [
    "def plot_cell(cell):\n",
    "    cell_plot_idx = 0\n",
    "    plt.figure(figsize=(12, 8))\n",
    "    subplots_adjust(hspace=0.5)  # Adjusts the vertical distance between panels.\n",
    "    subplot(121, aspect='equal', xticks=[], xlabel='x', ylabel='y [$\\mu m$]')\n",
    "    [plot([cell.xstart[idx], cell.xend[idx]], [cell.ystart[idx], cell.yend[idx]], c='k') \n",
    "     for idx in range(cell.totnsegs)]\n",
    "    plot(cell.xmid[cell.synidx], cell.ymid[cell.synidx], 'ro')\n",
    "    subplot(222, title='Membrane potential', xlabel='Time [ms]', ylabel='mV')\n",
    "    plot(cell.tvec, cell.vmem[cell_plot_idx, :])\n",
    "    subplot(224, title='Transmembrane currents', xlabel='Time [ms]', ylabel='nA')\n",
    "    plot(cell.tvec, cell.imem[cell_plot_idx, :])\n",
    "    show()"
   ]
  },
  {
   "cell_type": "code",
   "execution_count": null,
   "metadata": {
    "scrolled": false
   },
   "outputs": [],
   "source": [
    "cell = return_cell()\n",
    "plot_cell(cell)"
   ]
  },
  {
   "cell_type": "code",
   "execution_count": null,
   "metadata": {},
   "outputs": [],
   "source": []
  }
 ],
 "metadata": {
  "kernelspec": {
   "display_name": "Python 3",
   "language": "python",
   "name": "python3"
  },
  "language_info": {
   "codemirror_mode": {
    "name": "ipython",
    "version": 3
   },
   "file_extension": ".py",
   "mimetype": "text/x-python",
   "name": "python",
   "nbconvert_exporter": "python",
   "pygments_lexer": "ipython3",
   "version": "3.8.5"
  }
 },
 "nbformat": 4,
 "nbformat_minor": 2
}
