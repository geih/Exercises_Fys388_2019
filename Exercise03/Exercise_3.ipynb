{
 "cells": [
  {
   "cell_type": "code",
   "execution_count": 1,
   "metadata": {
    "collapsed": false
   },
   "outputs": [
    {
     "name": "stdout",
     "output_type": "stream",
     "text": [
      "Populating the interactive namespace from numpy and matplotlib\n"
     ]
    }
   ],
   "source": [
    "%pylab notebook\n",
    "import numpy as np"
   ]
  },
  {
   "cell_type": "code",
   "execution_count": 2,
   "metadata": {
    "collapsed": true
   },
   "outputs": [],
   "source": [
    "def set_parameters():\n",
    "    '''\n",
    "    Define simulation, stimulus and neuron parameters and stores values in parameter dictionary p.\n",
    "\n",
    "    Returns:\n",
    "    --------\n",
    "    p : dict\n",
    "        Parameter dictionary.\n",
    "      \n",
    "    '''\n",
    "    ## store parameters in dictionary\n",
    "    p = {}\n",
    "  \n",
    "    ## simulation parameters\n",
    "    p['T'] = 50.                ## simulation time (ms)\n",
    "    p['dt'] = 0.025              ## simulation time resolution (ms)\n",
    "\n",
    "    ## stimulus parameters\n",
    "    p['I_amp'] = -10.           ## input current amplitude (uA/cm2)\n",
    "    p['t_stim_on'] = 5.            ## stimulus-on time (ms)\n",
    "    p['t_stim_off'] = 30           ## stimulus-off time (ms)\n",
    "\n",
    "    ## neuron parameters\n",
    "    p['V_rest'] = -65.             ## resting potential (mV)\n",
    "    p['Cm'] = 1.               ## membrane capacitance (uF/cm2)\n",
    "    p['gbar_Na'] = 120.             ## max. Na conductance (mS/cm2)\n",
    "    p['gbar_K'] = 36.               ## max K conductance (mS/cm2)\n",
    "    p['gbar_l'] = 0.3              ## leak conductance (mS/cm2)\n",
    "    p['E_Na'] = 50.              ## Na reversal potentail (mV)\n",
    "    p['E_K'] = -77.             ## K reversal potentail (mV)\n",
    "    p['E_l'] = -54.387          ## Leak reversal potentail (mV)\n",
    "\n",
    "    ## voltage dependence of gate variables    \n",
    "    ### K activation\n",
    "    p['alpha_n'] = np.vectorize(lambda v: 0.01*(v+55.) / (1.-np.exp(-(v + 55.)/10.)) \n",
    "                                if v != -55. else 0.1) ## activation rate (1/ms)\n",
    "    p['beta_n'] = lambda v: 0.125*np.exp(-(v+65.)/80.) ## inactivation rate (1/ms)\n",
    "    \n",
    "    ### Na activation\n",
    "    p['alpha_m'] = np.vectorize(lambda v: 0.1*(v + 40.)/(1.-np.exp(-(v + 40.)/10.)) \n",
    "                                if v != -40. else 1)  ## activation rate (1/ms)\n",
    "    p['beta_m'] = lambda v: 4.*np.exp(-(v+65.)/18.)   ## inactivation rate (1/ms)\n",
    "    \n",
    "    ### Na inactivation\n",
    "    p['alpha_h'] = lambda v: 0.07*np.exp(-(v+65.)/20.)  ## activation rate (1/ms)\n",
    "    p['beta_h'] = lambda v: 1./(1.+np.exp(-(v + 35.)/10.)) ## inactivation rate (1/ms)\n",
    "\n",
    "    derived_parameters(p)  ## add derived parameters to dictionary (see below)\n",
    "\n",
    "    ## HINT: Storing parameters in dictionaries simplifies function definitions by \n",
    "    ## reducing number of arguments (see below).\n",
    "    \n",
    "    return p"
   ]
  },
  {
   "cell_type": "code",
   "execution_count": 3,
   "metadata": {
    "collapsed": true
   },
   "outputs": [],
   "source": [
    "def derived_parameters(p):\n",
    "    '''\n",
    "    Set derived parameters, i.e. parameters which are fully defined by parameters in p.\n",
    "\n",
    "    Parameters:\n",
    "    -----------\n",
    "    p: dict\n",
    "       Parameter dictionary\n",
    "     \n",
    "    Returns:\n",
    "    --------\n",
    "    nothing (p is modified \"on-the-fly\").\n",
    "    \n",
    "    '''\n",
    "    \n",
    "    p['time'] = np.arange(0, p['T']+p['dt'], p['dt'])                          ## time array (ms)\n",
    "    p['n_inf'] = lambda v: p['alpha_n'](v)/(p['alpha_n'](v) + p['beta_n'](v)) ## steady-state K activation\n",
    "    p['tau_n'] = lambda v: 1./(p['alpha_n'](v) + p['beta_n'](v))              ## (ms)\n",
    "    p['m_inf'] = lambda v: p['alpha_m'](v)/(p['alpha_m'](v) + p['beta_m'](v)) ## steady-state Na activation\n",
    "    p['tau_m'] = lambda v: 1./(p['alpha_m'](v) + p['beta_m'](v))              ## (ms)\n",
    "    p['h_inf'] = lambda v: p['alpha_h'](v)/(p['alpha_h'](v) + p['beta_h'](v)) ## steady-state Na inactivation\n",
    "    p['tau_h'] = lambda v: 1./(p['alpha_h'](v) + p['beta_h'](v))              ## (ms)"
   ]
  },
  {
   "cell_type": "code",
   "execution_count": 4,
   "metadata": {
    "collapsed": true
   },
   "outputs": [],
   "source": [
    "def stimulus(p):\n",
    "    '''\n",
    "    Consctructs array I of input currents with\n",
    "\n",
    "    I(t) = p['I_amp']        for p['t_stim_on'] <= t <= p['t_stim_off']\n",
    "    I(t) = 0.0               else.\n",
    "\n",
    "    (i.e. current pulse of length p['t_stim_off']-p['t_stim_on']).\n",
    "    \n",
    "    Parameters:\n",
    "    -----------\n",
    "    p: dict\n",
    "       Parameter dictionary\n",
    "     \n",
    "    Returns:\n",
    "    --------\n",
    "    I: ndarray\n",
    "       Array of input currents with with len(I)=len(p['time']).\n",
    "\n",
    "    '''\n",
    "  \n",
    "    ## TO BE IMPLEMENTED\n",
    "\n",
    "    return I"
   ]
  },
  {
   "cell_type": "code",
   "execution_count": 5,
   "metadata": {
    "collapsed": true
   },
   "outputs": [],
   "source": [
    "def update(Vm, m, h, n, I, p):\n",
    "    '''\n",
    "    Updates neuron state (Vm,m,h,n) from time step i-1 to time step i.\n",
    "\n",
    "    Parameters:\n",
    "    -----------\n",
    "    Vm: float\n",
    "        Membrane potentential at time step i-1.\n",
    "     m: float\n",
    "        Na activation at time step i-1.\n",
    "     h: float\n",
    "        Na inactivation at time step i-1.\n",
    "     n: float\n",
    "        K activation at time step i-1.\n",
    "     I: float\n",
    "        Input current at time step i-1.\n",
    "     p: dict\n",
    "        Parameter dictionary\n",
    "    \n",
    "    Returns:\n",
    "    --------\n",
    "    Vm: float\n",
    "        Membrane potentential at time step i.\n",
    "     m: float\n",
    "        Na activation at time step i.\n",
    "     h: float\n",
    "        Na inactivation at time step i.    \n",
    "     n: float\n",
    "        K activation at time step i.\n",
    "  \n",
    "    '''\n",
    "    \n",
    "    ## TO BE IMPLEMENTED\n",
    "    \n",
    "    return Vm, m, h, n"
   ]
  },
  {
   "cell_type": "code",
   "execution_count": 6,
   "metadata": {
    "collapsed": true
   },
   "outputs": [],
   "source": [
    "def simulate(p):\n",
    "    '''\n",
    "    1) Initialises state variables Vm, m, h, n with respective values at resting potential p['V_rest'].\n",
    "    2) Constructs and returns array I of input currents by calling stimulus().\n",
    "    3) Constructs array Vm of membrane potentials by calling update() in each time step.\n",
    "\n",
    "    Parameters:\n",
    "    -----------\n",
    "    p: dict\n",
    "       Parameter dictionary\n",
    "       \n",
    "    Returns:\n",
    "    --------\n",
    "    Vm: ndarray\n",
    "        Array of membrane potentials with len(Vm)=len(p['time']).\n",
    "     I: ndarray\n",
    "        Array of input currents with len(I)=len(p['time']).\n",
    "\n",
    "    '''\n",
    "  \n",
    "    ## TO BE IMPLEMENTED\n",
    "    \n",
    "    return Vm, I"
   ]
  },
  {
   "cell_type": "markdown",
   "metadata": {},
   "source": [
    "## Main simulation:"
   ]
  },
  {
   "cell_type": "code",
   "execution_count": 7,
   "metadata": {
    "collapsed": false
   },
   "outputs": [
    {
     "ename": "NameError",
     "evalue": "name 'Vm' is not defined",
     "output_type": "error",
     "traceback": [
      "\u001b[0;31m---------------------------------------------------------------------------\u001b[0m",
      "\u001b[0;31mNameError\u001b[0m                                 Traceback (most recent call last)",
      "\u001b[0;32m<ipython-input-7-b43446cf760d>\u001b[0m in \u001b[0;36m<module>\u001b[0;34m()\u001b[0m\n\u001b[1;32m      3\u001b[0m \u001b[0;34m\u001b[0m\u001b[0m\n\u001b[1;32m      4\u001b[0m \u001b[0;31m## simulate\u001b[0m\u001b[0;34m\u001b[0m\u001b[0;34m\u001b[0m\u001b[0m\n\u001b[0;32m----> 5\u001b[0;31m \u001b[0mVm\u001b[0m\u001b[0;34m,\u001b[0m \u001b[0mI\u001b[0m \u001b[0;34m=\u001b[0m \u001b[0msimulate\u001b[0m\u001b[0;34m(\u001b[0m\u001b[0mp\u001b[0m\u001b[0;34m)\u001b[0m\u001b[0;34m\u001b[0m\u001b[0m\n\u001b[0m\u001b[1;32m      6\u001b[0m \u001b[0;34m\u001b[0m\u001b[0m\n\u001b[1;32m      7\u001b[0m \u001b[0;31m## plot results\u001b[0m\u001b[0;34m\u001b[0m\u001b[0;34m\u001b[0m\u001b[0m\n",
      "\u001b[0;32m<ipython-input-6-6c928863d83f>\u001b[0m in \u001b[0;36msimulate\u001b[0;34m(p)\u001b[0m\n\u001b[1;32m     21\u001b[0m     \u001b[0;31m## TO BE IMPLEMENTED\u001b[0m\u001b[0;34m\u001b[0m\u001b[0;34m\u001b[0m\u001b[0m\n\u001b[1;32m     22\u001b[0m \u001b[0;34m\u001b[0m\u001b[0m\n\u001b[0;32m---> 23\u001b[0;31m     \u001b[0;32mreturn\u001b[0m \u001b[0mVm\u001b[0m\u001b[0;34m,\u001b[0m \u001b[0mI\u001b[0m\u001b[0;34m\u001b[0m\u001b[0m\n\u001b[0m",
      "\u001b[0;31mNameError\u001b[0m: name 'Vm' is not defined"
     ]
    }
   ],
   "source": [
    "## set parameters\n",
    "p = set_parameters()\n",
    "\n",
    "## simulate\n",
    "Vm, I = simulate(p)\n",
    "\n",
    "## plot results\n",
    "figure(1)\n",
    "clf()\n",
    "\n",
    "### input current\n",
    "sp1 = subplot(211)\n",
    "plot(p['time'], I, 'k-', lw=3)\n",
    "ylabel('input current ($\\mu$A/cm$^2$)')\n",
    "xlim(p['time'][0], p['time'][-1])\n",
    "offset = 0.1*np.abs(np.max(I)-np.min(I))\n",
    "ylim(np.min(I)-offset, np.max(I)+offset)\n",
    "sp1.set_position([0.1, 0.65, 0.8, 0.3])\n",
    "setp(gca(), xticklabels=[])\n",
    "\n",
    "### membrane potential \n",
    "sp2 = subplot(212)\n",
    "plot(p['time'], Vm, 'k-', lw=3)\n",
    "ylabel('membrane potential (mV)')\n",
    "xlabel('time (ms)')\n",
    "xlim(p['time'][0], p['time'][-1])\n",
    "offset = 0.1*np.abs(np.max(Vm)-np.min(Vm))\n",
    "ylim(np.min(Vm)-offset, np.max(Vm)+offset)\n",
    "sp2.set_position([0.1, 0.1, 0.8, 0.5])\n",
    "\n",
    "savefig('exercise_3_result.png')  ## saves figure as pdf file\n"
   ]
  },
  {
   "cell_type": "code",
   "execution_count": null,
   "metadata": {
    "collapsed": true
   },
   "outputs": [],
   "source": []
  },
  {
   "cell_type": "code",
   "execution_count": null,
   "metadata": {
    "collapsed": true
   },
   "outputs": [],
   "source": []
  }
 ],
 "metadata": {
  "kernelspec": {
   "display_name": "Python 3",
   "language": "python",
   "name": "python3"
  },
  "language_info": {
   "codemirror_mode": {
    "name": "ipython",
    "version": 3
   },
   "file_extension": ".py",
   "mimetype": "text/x-python",
   "name": "python",
   "nbconvert_exporter": "python",
   "pygments_lexer": "ipython3",
   "version": "3.6.0"
  }
 },
 "nbformat": 4,
 "nbformat_minor": 2
}
