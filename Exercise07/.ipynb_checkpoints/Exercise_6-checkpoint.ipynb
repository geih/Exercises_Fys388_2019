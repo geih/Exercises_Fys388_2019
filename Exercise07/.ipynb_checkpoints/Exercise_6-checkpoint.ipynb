{
 "cells": [
  {
   "cell_type": "markdown",
   "metadata": {},
   "source": [
    "# Exercise 7: INTERNEVRON\n"
   ]
  },
  {
   "cell_type": "code",
   "execution_count": 1,
   "metadata": {
    "collapsed": false
   },
   "outputs": [
    {
     "name": "stdout",
     "output_type": "stream",
     "text": [
      "Current working directory /Users/geih/Documents/Undervisning/Fys388_2019/Exercises2019_online/Exercise072\n",
      "/Users/geih/Documents/Undervisning/Fys388_2019/Exercises2019_online/Exercise072/IN\n",
      "Cad.mod HH_traub.mod Ican.mod iahp.mod iar.mod ical.mod it2.mod\n",
      "Cad.mod HH_traub.mod Ican.mod iahp.mod iar.mod ical.mod it2.mod\n",
      "\"/Applications/NEURON-7.7/nrn/share/nrn/libtool\" --tag=CC --mode=compile gcc -DHAVE_CONFIG_H  -I. -I.. -I\"/Applications/NEURON-7.7/nrn/include/nrn\" -I\"/Applications/NEURON-7.7/nrn/x86_64/lib\"      -g -O2 -c -o mod_func.lo mod_func.c\n",
      "libtool: compile:  gcc -DHAVE_CONFIG_H -I. -I.. -I/Applications/NEURON-7.7/nrn/include/nrn -I/Applications/NEURON-7.7/nrn/x86_64/lib -g -O2 -c mod_func.c  -fno-common -DPIC -o .libs/mod_func.o\n",
      "\"/Applications/NEURON-7.7/nrn/share/nrn/libtool\" --tag=CC --mode=link gcc -module  -g -O2    -headerpad_max_install_names -o libnrnmech.la -rpath \"/Applications/NEURON-7.7/nrn/x86_64/lib\"  Cad.lo HH_traub.lo Ican.lo iahp.lo iar.lo ical.lo it2.lo mod_func.lo  -L\"/Applications/NEURON-7.7/nrn/x86_64/lib\" -lnrnoc -loc -lmemacs  -lscopmath -lsparse13 -lreadline -lncurses -L\"/Applications/NEURON-7.7/nrn/x86_64/lib\" -lnrniv -livoc -lneuron_gnu -lmeschach -lsundials       \n",
      "libtool: link: rm -fr  .libs/libnrnmech.0.so .libs/libnrnmech.la .libs/libnrnmech.lai .libs/libnrnmech.so\n",
      "libtool: link: gcc -Wl,-undefined -Wl,dynamic_lookup -o .libs/libnrnmech.0.so -bundle  .libs/Cad.o .libs/HH_traub.o .libs/Ican.o .libs/iahp.o .libs/iar.o .libs/ical.o .libs/it2.o .libs/mod_func.o   -L/Applications/NEURON-7.7/nrn/x86_64/lib /Applications/NEURON-7.7/nrn/x86_64/lib/libnrnoc.dylib /Applications/NEURON-7.7/nrn/x86_64/lib/liboc.dylib -L/usr/X11/lib -lX11 /Applications/NEURON-7.7/nrn/x86_64/lib/libmemacs.dylib /Applications/NEURON-7.7/nrn/x86_64/lib/libscopmath.dylib /Applications/NEURON-7.7/nrn/x86_64/lib/libsparse13.dylib /Applications/NEURON-7.7/nrn/x86_64/lib/libreadline.dylib -lncurses /Applications/NEURON-7.7/nrn/x86_64/lib/libnrniv.dylib /Applications/NEURON-7.7/nrn/x86_64/lib/libivoc.dylib /Applications/NEURON-7.7/nrn/x86_64/lib/libneuron_gnu.dylib /Applications/NEURON-7.7/nrn/x86_64/lib/libmeschach.dylib /Applications/NEURON-7.7/nrn/x86_64/lib/libsundials.dylib  -g -O2  \n",
      "libtool: link: (cd \".libs\" && rm -f \"libnrnmech.so\" && ln -s \"libnrnmech.0.so\" \"libnrnmech.so\")\n",
      "libtool: link: ( cd \".libs\" && rm -f \"libnrnmech.la\" && ln -s \"../libnrnmech.la\" \"libnrnmech.la\" )\n",
      "Successfully created x86_64/special\n"
     ]
    }
   ],
   "source": [
    "%matplotlib inline\n",
    "import os\n",
    "from os.path import join\n",
    "retval = os.getcwd()\n",
    "print(\"Current working directory %s\" % retval)\n",
    "os.chdir(\"IN\")\n",
    "!nrnivmodl\n",
    "os.chdir(retval)\n",
    "\n",
    "from os.path import join\n",
    "import numpy as np\n",
    "import pylab as plt\n",
    "import scipy.stats\n",
    "import neuron\n",
    "from neuron import h\n",
    "import LFPy\n",
    "np.random.seed(1234)\n"
   ]
  },
  {
   "cell_type": "code",
   "execution_count": 61,
   "metadata": {
    "collapsed": false
   },
   "outputs": [
    {
     "ename": "SyntaxError",
     "evalue": "invalid syntax (<ipython-input-61-d5f69eac7680>, line 51)",
     "output_type": "error",
     "traceback": [
      "\u001b[0;36m  File \u001b[0;32m\"<ipython-input-61-d5f69eac7680>\"\u001b[0;36m, line \u001b[0;32m51\u001b[0m\n\u001b[0;31m    h.access soma\u001b[0m\n\u001b[0m                ^\u001b[0m\n\u001b[0;31mSyntaxError\u001b[0m\u001b[0;31m:\u001b[0m invalid syntax\n"
     ]
    }
   ],
   "source": [
    "def mymodel(**kwarg):\n",
    "    # Passive properties\n",
    "    rall = 200 # axial resistance\n",
    "    cap = 1.1 # membrane capacitance\n",
    "    Rm = 45000.0 # membrane resistance\n",
    "    Epas = -70\n",
    "    celsius = 36\n",
    "    \n",
    "    # Channel densities\n",
    "    gna =  0.09 # S/cm2\n",
    "    gkdr = 0.37\n",
    "    nash = - 52.6\n",
    "    kdrsh = -51.2\n",
    "    gcat = 7.e-4\n",
    "    gahp = 6.4e-5\n",
    "    gcat=3e-5\n",
    "    gcal=0.0009\n",
    "    ghbar=0.00011\n",
    "    catau = 50\n",
    "    gcanbar = 2e-8\n",
    "    \n",
    "    ## INSERT ION CHANNELS:\n",
    "    h.soma.insert(\"pas\")\n",
    "    h.soma.e_pas = Epas\n",
    "    h.soma.g_pas = 1/Rm\n",
    "    h.soma.Ra = rall\n",
    "    h.soma.cm = cap\n",
    "    h.soma.insert(\"Cad\")\n",
    "    h.soma.insert(\"it2\")\n",
    "    h.soma.insert(\"hh2\")\n",
    "    h.soma.insert(\"ical\")\n",
    "    h.soma.insert(\"iahp\")\n",
    "    h.soma.insert(\"iar\")\n",
    "    h.soma.insert(\"ican\")\n",
    "    h.soma.ena = 50 # Reversal potential for sodium\n",
    "    h.soma.ek = -70 # Reversal potential for potassium\n",
    "    h.soma.v = Epas\n",
    "    \n",
    "    h.soma.gnabar_hh2 = gna\n",
    "    h.soma.gkbar_hh2 = gkdr\n",
    "    h.soma.gcabar_it2 = gcat\n",
    "    h.soma.vtraubNa_hh2 = nash \n",
    "    h.soma.vtraubK_hh2 = kdrsh\n",
    "    h.soma.pcabar_ical = gcal\n",
    "    h.soma.gkbar_iahp = gahp\n",
    "    h.soma.ghbar_iar = ghbar\n",
    "    h.soma.gbar_ican = gcanbar\n",
    "    \n",
    "    h.celsius = celsius\n",
    "    \n",
    "    stim=h.IClamp(.5)\n",
    "    stim.delay=100\n",
    "    stim.dur=700\n",
    "    stim.amp=1000\n",
    "    \n",
    "def return_mymodel(end_T, dt, start_T, v_init=-75.):\n",
    "\n",
    "    neuron.load_mechanisms(join(\"IN\"))\n",
    "    cell = LFPy.Cell(morphology= join(\"IN\",\"ball.hoc\"),\n",
    "                     dt=dt,\n",
    "                     tstart=start_T,\n",
    "                     tstop=end_T,\n",
    "                     nsegs_method='lambda_f',\n",
    "                     lambda_f=100,\n",
    "                     custom_fun=[mymodel],\n",
    "                     custom_fun_args=[{}],\n",
    "                     )\n",
    "    cell.simulate(rec_imem=True, rec_vmem=True)\n",
    "    return cell"
   ]
  },
  {
   "cell_type": "code",
   "execution_count": 57,
   "metadata": {
    "collapsed": true
   },
   "outputs": [],
   "source": [
    "def insert_IClamp(cell, amp, pos):\n",
    "    '''Insert stimulus electrode'''\n",
    "    \n",
    "    IClamp_params = {\n",
    "        'idx' : 0,\n",
    "        'record_current' : True,\n",
    "        'pptype' : 'IClamp',\n",
    "        'amp' : amp,\n",
    "        'dur' : 500,\n",
    "        'delay' : 60,\n",
    "    }\n",
    "    idx = np.array([pos])\n",
    "    stimulus = LFPy.StimIntElectrode(cell, **IClamp_params)    \n",
    "    return stimulus"
   ]
  },
  {
   "cell_type": "code",
   "execution_count": 58,
   "metadata": {
    "collapsed": false
   },
   "outputs": [],
   "source": [
    "def insert_synapses(cell, weight, pos):\n",
    "    '''Insert synapses'''\n",
    "    \n",
    "    synapse_params = {\n",
    "        'e' : 0,                   #reversal potential\n",
    "        'syntype' : 'Exp2Syn',      #synapse type\n",
    "        'tau1' : 1,                 #syn time constant\n",
    "        'tau2' : 3,                 #syn time constant\n",
    "        'weight' : weight,           #syn weight\n",
    "        'record_current' : True    #syn current gets recorded\n",
    "    }\n",
    "    \n",
    "    idx = np.array([pos])\n",
    "    args = dict(n=1, tstart=cell.tstart, tstop=cell.tstop,\n",
    "                  distribution=scipy.stats.gamma,\n",
    "                  rvs_args=dict(a=0.5, loc=0., scale=40)\n",
    "                  )\n",
    "    #Insert synapses in an iterative fashion\n",
    "    for i in idx:\n",
    "        synapse_params['idx'] = int(i)\n",
    "        spiketimes = np.array([120.0])\n",
    "        # Create synapse(s) and setting times using the Synapse class in LFPy\n",
    "        s = LFPy.Synapse(cell, **synapse_params)\n",
    "        s.set_spike_times(spiketimes)\n",
    "    return s"
   ]
  },
  {
   "cell_type": "code",
   "execution_count": 59,
   "metadata": {
    "collapsed": false
   },
   "outputs": [],
   "source": [
    "def plot_signal(cell, synapse, synpos):\n",
    "    \"\"\"\n",
    "    Plots the somatic membrane potential and somatic transmembrane currents (left), \n",
    "    as well as the cell morphology (center), and the extracellular potential (right).\n",
    "    \n",
    "    Parameters:\n",
    "    ===========\n",
    "    cell : LFPy.Cell object that contains the cell model. This function assumes that the cell simulation is finished\n",
    "    electrode: Electrode object from the LFPy class RecExtElectrode \n",
    "    \"\"\"\n",
    "    plt.close(\"all\")\n",
    "    cell_plot_idx = 0\n",
    "    fig = plt.figure(figsize=[12, 9])\n",
    "    fig.subplots_adjust(hspace=0.5)  # Adjusts the vertical distance between panels.\n",
    "    \n",
    "    ax_v = fig.add_subplot(111, ylabel='mV')\n",
    "    ax_v.plot(cell.tvec, cell.somav, color='k', lw=2)"
   ]
  },
  {
   "cell_type": "code",
   "execution_count": 60,
   "metadata": {
    "collapsed": false,
    "scrolled": false
   },
   "outputs": [
    {
     "name": "stdout",
     "output_type": "stream",
     "text": [
      "Mechanisms already loaded from path: IN.  Aborting.\n"
     ]
    },
    {
     "ename": "AttributeError",
     "evalue": "'nrn.Section' object has no attribute 'IClamp'",
     "output_type": "error",
     "traceback": [
      "\u001b[0;31m---------------------------------------------------------------------------\u001b[0m",
      "\u001b[0;31mAttributeError\u001b[0m                            Traceback (most recent call last)",
      "\u001b[0;32m<ipython-input-60-8bdc5def004f>\u001b[0m in \u001b[0;36m<module>\u001b[0;34m()\u001b[0m\n\u001b[1;32m      8\u001b[0m \u001b[0mdt\u001b[0m \u001b[0;34m=\u001b[0m \u001b[0;36m2\u001b[0m\u001b[0;34m**\u001b[0m\u001b[0;34m-\u001b[0m\u001b[0;36m5\u001b[0m\u001b[0;34m\u001b[0m\u001b[0m\n\u001b[1;32m      9\u001b[0m \u001b[0mstart_T\u001b[0m \u001b[0;34m=\u001b[0m \u001b[0;34m-\u001b[0m\u001b[0;36m200\u001b[0m\u001b[0;34m\u001b[0m\u001b[0m\n\u001b[0;32m---> 10\u001b[0;31m \u001b[0mcell\u001b[0m \u001b[0;34m=\u001b[0m \u001b[0mreturn_mymodel\u001b[0m\u001b[0;34m(\u001b[0m\u001b[0mend_T\u001b[0m\u001b[0;34m,\u001b[0m \u001b[0mdt\u001b[0m\u001b[0;34m,\u001b[0m \u001b[0mstart_T\u001b[0m\u001b[0;34m)\u001b[0m\u001b[0;34m\u001b[0m\u001b[0m\n\u001b[0m\u001b[1;32m     11\u001b[0m \u001b[0;34m\u001b[0m\u001b[0m\n\u001b[1;32m     12\u001b[0m \u001b[0;31m#synapse = insert_synapses(cell, weight=weight, pos = 0)\u001b[0m\u001b[0;34m\u001b[0m\u001b[0;34m\u001b[0m\u001b[0m\n",
      "\u001b[0;32m<ipython-input-56-fab8b5e0c1da>\u001b[0m in \u001b[0;36mreturn_mymodel\u001b[0;34m(end_T, dt, start_T, v_init)\u001b[0m\n\u001b[1;32m     64\u001b[0m                      \u001b[0mlambda_f\u001b[0m\u001b[0;34m=\u001b[0m\u001b[0;36m100\u001b[0m\u001b[0;34m,\u001b[0m\u001b[0;34m\u001b[0m\u001b[0m\n\u001b[1;32m     65\u001b[0m                      \u001b[0mcustom_fun\u001b[0m\u001b[0;34m=\u001b[0m\u001b[0;34m[\u001b[0m\u001b[0mmymodel\u001b[0m\u001b[0;34m]\u001b[0m\u001b[0;34m,\u001b[0m\u001b[0;34m\u001b[0m\u001b[0m\n\u001b[0;32m---> 66\u001b[0;31m                      \u001b[0mcustom_fun_args\u001b[0m\u001b[0;34m=\u001b[0m\u001b[0;34m[\u001b[0m\u001b[0;34m{\u001b[0m\u001b[0;34m}\u001b[0m\u001b[0;34m]\u001b[0m\u001b[0;34m,\u001b[0m\u001b[0;34m\u001b[0m\u001b[0m\n\u001b[0m\u001b[1;32m     67\u001b[0m                      )\n\u001b[1;32m     68\u001b[0m     \u001b[0mcell\u001b[0m\u001b[0;34m.\u001b[0m\u001b[0msimulate\u001b[0m\u001b[0;34m(\u001b[0m\u001b[0mrec_imem\u001b[0m\u001b[0;34m=\u001b[0m\u001b[0;32mTrue\u001b[0m\u001b[0;34m,\u001b[0m \u001b[0mrec_vmem\u001b[0m\u001b[0;34m=\u001b[0m\u001b[0;32mTrue\u001b[0m\u001b[0;34m)\u001b[0m\u001b[0;34m\u001b[0m\u001b[0m\n",
      "\u001b[0;32m/Users/geih/.local/lib/python3.6/site-packages/LFPy/cell.py\u001b[0m in \u001b[0;36m__init__\u001b[0;34m(self, morphology, v_init, Ra, cm, passive, passive_parameters, extracellular, tstart, tstop, dt, nsegs_method, lambda_f, d_lambda, max_nsegs_length, delete_sections, custom_code, custom_fun, custom_fun_args, pt3d, celsius, verbose, **kwargs)\u001b[0m\n\u001b[1;32m    273\u001b[0m         \u001b[0;31m#run user specified code and functions if argument given\u001b[0m\u001b[0;34m\u001b[0m\u001b[0;34m\u001b[0m\u001b[0m\n\u001b[1;32m    274\u001b[0m         \u001b[0;32mif\u001b[0m \u001b[0mcustom_code\u001b[0m \u001b[0;32mis\u001b[0m \u001b[0;32mnot\u001b[0m \u001b[0;32mNone\u001b[0m \u001b[0;32mor\u001b[0m \u001b[0mcustom_fun\u001b[0m \u001b[0;32mis\u001b[0m \u001b[0;32mnot\u001b[0m \u001b[0;32mNone\u001b[0m\u001b[0;34m:\u001b[0m\u001b[0;34m\u001b[0m\u001b[0m\n\u001b[0;32m--> 275\u001b[0;31m             \u001b[0mself\u001b[0m\u001b[0;34m.\u001b[0m\u001b[0m_run_custom_codes\u001b[0m\u001b[0;34m(\u001b[0m\u001b[0mcustom_code\u001b[0m\u001b[0;34m,\u001b[0m \u001b[0mcustom_fun\u001b[0m\u001b[0;34m,\u001b[0m \u001b[0mcustom_fun_args\u001b[0m\u001b[0;34m)\u001b[0m\u001b[0;34m\u001b[0m\u001b[0m\n\u001b[0m\u001b[1;32m    276\u001b[0m \u001b[0;34m\u001b[0m\u001b[0m\n\u001b[1;32m    277\u001b[0m         \u001b[0;31m#Insert extracellular mech on all segments\u001b[0m\u001b[0;34m\u001b[0m\u001b[0;34m\u001b[0m\u001b[0m\n",
      "\u001b[0;32m/Users/geih/.local/lib/python3.6/site-packages/LFPy/cell.py\u001b[0m in \u001b[0;36m_run_custom_codes\u001b[0;34m(self, custom_code, custom_fun, custom_fun_args)\u001b[0m\n\u001b[1;32m    394\u001b[0m         \u001b[0;32mif\u001b[0m \u001b[0mcustom_fun\u001b[0m \u001b[0;32mis\u001b[0m \u001b[0;32mnot\u001b[0m \u001b[0;32mNone\u001b[0m\u001b[0;34m:\u001b[0m\u001b[0;34m\u001b[0m\u001b[0m\n\u001b[1;32m    395\u001b[0m             \u001b[0;32mfor\u001b[0m \u001b[0mfun\u001b[0m \u001b[0;32min\u001b[0m \u001b[0mcustom_fun\u001b[0m\u001b[0;34m:\u001b[0m\u001b[0;34m\u001b[0m\u001b[0m\n\u001b[0;32m--> 396\u001b[0;31m                 \u001b[0mfun\u001b[0m\u001b[0;34m(\u001b[0m\u001b[0;34m**\u001b[0m\u001b[0mcustom_fun_args\u001b[0m\u001b[0;34m[\u001b[0m\u001b[0mi\u001b[0m\u001b[0;34m]\u001b[0m\u001b[0;34m)\u001b[0m\u001b[0;34m\u001b[0m\u001b[0m\n\u001b[0m\u001b[1;32m    397\u001b[0m                 \u001b[0mi\u001b[0m \u001b[0;34m+=\u001b[0m \u001b[0;36m1\u001b[0m\u001b[0;34m\u001b[0m\u001b[0m\n\u001b[1;32m    398\u001b[0m \u001b[0;34m\u001b[0m\u001b[0m\n",
      "\u001b[0;32m<ipython-input-56-fab8b5e0c1da>\u001b[0m in \u001b[0;36mmymodel\u001b[0;34m(**kwarg)\u001b[0m\n\u001b[1;32m     49\u001b[0m     \u001b[0mh\u001b[0m\u001b[0;34m.\u001b[0m\u001b[0mcelsius\u001b[0m \u001b[0;34m=\u001b[0m \u001b[0mcelsius\u001b[0m\u001b[0;34m\u001b[0m\u001b[0m\n\u001b[1;32m     50\u001b[0m \u001b[0;34m\u001b[0m\u001b[0m\n\u001b[0;32m---> 51\u001b[0;31m     \u001b[0mstim\u001b[0m\u001b[0;34m=\u001b[0m\u001b[0mh\u001b[0m\u001b[0;34m.\u001b[0m\u001b[0msoma\u001b[0m\u001b[0;34m.\u001b[0m\u001b[0mIClamp\u001b[0m\u001b[0;34m(\u001b[0m\u001b[0;36m.5\u001b[0m\u001b[0;34m)\u001b[0m\u001b[0;34m\u001b[0m\u001b[0m\n\u001b[0m\u001b[1;32m     52\u001b[0m     \u001b[0mstim\u001b[0m\u001b[0;34m.\u001b[0m\u001b[0mdelay\u001b[0m\u001b[0;34m=\u001b[0m\u001b[0;36m100\u001b[0m\u001b[0;34m\u001b[0m\u001b[0m\n\u001b[1;32m     53\u001b[0m     \u001b[0mstim\u001b[0m\u001b[0;34m.\u001b[0m\u001b[0mdur\u001b[0m\u001b[0;34m=\u001b[0m\u001b[0;36m700\u001b[0m\u001b[0;34m\u001b[0m\u001b[0m\n",
      "\u001b[0;31mAttributeError\u001b[0m: 'nrn.Section' object has no attribute 'IClamp'"
     ]
    }
   ],
   "source": [
    "cell_name = \"IN\"\n",
    "weight = 0.0\n",
    "amp = 0.00\n",
    "\n",
    "#cell_folder = join(cell_name)\n",
    "\n",
    "end_T = 400\n",
    "dt = 2**-5\n",
    "start_T = -200\n",
    "cell = return_mymodel(end_T, dt, start_T)\n",
    "\n",
    "#synapse = insert_synapses(cell, weight=weight, pos = 0)\n",
    "stimulus = insert_IClamp(cell, amp=amp, pos=0)\n",
    "cell.simulate(rec_imem=False, rec_vmem=True, synpos = 0)\n",
    "\n",
    "plot_signal(cell, stimulus, 0)\n",
    "#plt.savefig(\"cell_hbp_%s.png\" % cell_name)"
   ]
  },
  {
   "cell_type": "markdown",
   "metadata": {
    "collapsed": true
   },
   "source": [
    "## 4) Optional: Dendritic Na⁺ and K⁺ channels\n",
    "Presumingly, your simulations in 1) showed that action potentials (evoked in the soma) only gave rise to small voltage deflections in the tip of the dendrite. Conversely, experiments have shown that the action potential shape and amplitude are fairly well preserved when they propagate from the soma to the distal dendrites in these interneurons (Casale et al., 2011, Journal of Neuroscience, 31(50):18289–18302). This indicates that not only the soma, but also the dendrites contain a nonzero density of Na⁺ and K⁺ channels.\n",
    "\n",
    "__a)__ Insert Na⁺ and K⁺ channels (with some density/conductance) in the dendrites, and see if you can can make the model account for this observation.\n",
    "\n",
    "__b)__ How is the response to a synaptic input when you have the dendritic Na⁺ and K⁺ conductances that you found above?"
   ]
  },
  {
   "cell_type": "code",
   "execution_count": 42,
   "metadata": {
    "collapsed": false
   },
   "outputs": [],
   "source": []
  },
  {
   "cell_type": "code",
   "execution_count": 55,
   "metadata": {
    "collapsed": false
   },
   "outputs": [
    {
     "name": "stdout",
     "output_type": "stream",
     "text": [
      "soma { nseg=1  L=20  Ra=200\n",
      "\t/*location 0 attached to cell 0*/\n",
      "\t/* First segment only */\n",
      "\tinsert morphology { diam=20}\n",
      "\tinsert capacitance { cm=1.1}\n",
      "\tinsert pas { g_pas=2.22222e-05 e_pas=-70}\n",
      "\tinsert Cad { taur_Cad=50 Cainf_Cad=5e-05 k_Cad=0.0155458}\n",
      "\tinsert it2 { gcabar_it2=3e-05}\n",
      "\tinsert hh2 { gnabar_hh2=0.09 gkbar_hh2=0.37 vtraubNa_hh2=-52.6 vtraubK_hh2=-51.2}\n",
      "\tinsert na_ion { ena=50}\n",
      "\tinsert ical { pcabar_ical=0.0009}\n",
      "\tinsert iahp { gkbar_iahp=6.4e-05}\n",
      "\tinsert k_ion { ek=-70}\n",
      "\tinsert iar { ghbar_iar=0.00011}\n",
      "\tinsert ican { gbar_ican=2e-08}\n",
      "\tinsert other_ion {}\n",
      "\tinsert Ca_ion {}\n",
      "\tinsert IClamp { del=60 dur=500 amp=0}\n",
      "}\n"
     ]
    },
    {
     "data": {
      "text/plain": [
       "1.0"
      ]
     },
     "execution_count": 55,
     "metadata": {},
     "output_type": "execute_result"
    }
   ],
   "source": [
    "h.psection()"
   ]
  },
  {
   "cell_type": "code",
   "execution_count": 76,
   "metadata": {
    "collapsed": false
   },
   "outputs": [
    {
     "ename": "TypeError",
     "evalue": "Cannot access cm directly; it is a range variable and may be accessed via a section or segment.",
     "output_type": "error",
     "traceback": [
      "\u001b[0;31m---------------------------------------------------------------------------\u001b[0m",
      "\u001b[0;31mTypeError\u001b[0m                                 Traceback (most recent call last)",
      "\u001b[0;32m<ipython-input-76-88f2220e0cec>\u001b[0m in \u001b[0;36m<module>\u001b[0;34m()\u001b[0m\n\u001b[0;32m----> 1\u001b[0;31m \u001b[0mh\u001b[0m\u001b[0;34m.\u001b[0m\u001b[0mcm\u001b[0m\u001b[0;34m\u001b[0m\u001b[0m\n\u001b[0m",
      "\u001b[0;31mTypeError\u001b[0m: Cannot access cm directly; it is a range variable and may be accessed via a section or segment."
     ]
    }
   ],
   "source": [
    "h.cm"
   ]
  },
  {
   "cell_type": "code",
   "execution_count": null,
   "metadata": {
    "collapsed": true
   },
   "outputs": [],
   "source": []
  }
 ],
 "metadata": {
  "kernelspec": {
   "display_name": "Python 3",
   "language": "python",
   "name": "python3"
  },
  "language_info": {
   "codemirror_mode": {
    "name": "ipython",
    "version": 3
   },
   "file_extension": ".py",
   "mimetype": "text/x-python",
   "name": "python",
   "nbconvert_exporter": "python",
   "pygments_lexer": "ipython3",
   "version": "3.6.0"
  }
 },
 "nbformat": 4,
 "nbformat_minor": 2
}
